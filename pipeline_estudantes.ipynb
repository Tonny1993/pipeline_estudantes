{
 "cells": [
  {
   "cell_type": "markdown",
   "id": "f80baa10",
   "metadata": {},
   "source": [
    "# Importar bibliotecas"
   ]
  },
  {
   "cell_type": "code",
   "execution_count": null,
   "id": "39977b63",
   "metadata": {},
   "outputs": [],
   "source": [
    "import kagglehub\n",
    "from kagglehub import KaggleDatasetAdapter\n",
    "import pandas as pd\n",
    "from sklearn.model_selection import train_test_split\n",
    "from sklearn.preprocessing import StandardScaler\n",
    "from sklearn.ensemble import RandomForestClassifier\n",
    "from sklearn.metrics import accuracy_score, confusion_matrix, ConfusionMatrixDisplay\n",
    "import matplotlib.pyplot as plt"
   ]
  },
  {
   "cell_type": "markdown",
   "id": "6147ec00",
   "metadata": {},
   "source": [
    "# Carregar dados"
   ]
  },
  {
   "cell_type": "code",
   "execution_count": null,
   "id": "557a7ffb",
   "metadata": {},
   "outputs": [],
   "source": [
    "df = kagglehub.load_dataset(\n",
    "  KaggleDatasetAdapter.PANDAS,\n",
    "  \"adilshamim8/turkiye-student-evaluation\",\n",
    "  file_path,\n",
    ")\n",
    "\n",
    "print(\"First 5 records:\", df.head())"
   ]
  },
  {
   "cell_type": "markdown",
   "id": "9cd9d203",
   "metadata": {},
   "source": [
    "# Exibir informações gerais e descritivas"
   ]
  },
  {
   "cell_type": "code",
   "execution_count": null,
   "id": "b123e7e7",
   "metadata": {},
   "outputs": [],
   "source": [
    "df.describe(include='all')"
   ]
  },
  {
   "cell_type": "markdown",
   "id": "7321ff33",
   "metadata": {},
   "source": [
    "# Padronizar colunas de avaliação (Q1 a Q28)"
   ]
  },
  {
   "cell_type": "code",
   "execution_count": null,
   "id": "3d0ef476",
   "metadata": {},
   "outputs": [],
   "source": [
    "question_cols = [col for col in df.columns if col.startswith('Q')]\n",
    "scaler = StandardScaler()\n",
    "df[question_cols] = scaler.fit_transform(df[question_cols])\n",
    "df.head()"
   ]
  },
  {
   "cell_type": "markdown",
   "id": "85c4f671",
   "metadata": {},
   "source": [
    "# Remover duplicatas"
   ]
  },
  {
   "cell_type": "code",
   "execution_count": null,
   "id": "4863181c",
   "metadata": {},
   "outputs": [],
   "source": [
    "df = df.drop_duplicates()\n",
    "df.shape"
   ]
  },
  {
   "cell_type": "markdown",
   "id": "73d31dcc",
   "metadata": {},
   "source": [
    "# Separar variáveis preditoras e alvo"
   ]
  },
  {
   "cell_type": "code",
   "execution_count": null,
   "id": "52452271",
   "metadata": {},
   "outputs": [],
   "source": [
    "X = df.drop(\"nb.repeat\", axis=1)\n",
    "y = df[\"nb.repeat\"]"
   ]
  },
  {
   "cell_type": "markdown",
   "id": "7cd528ed",
   "metadata": {},
   "source": [
    "# Dividir os dados em treino, validação e teste"
   ]
  },
  {
   "cell_type": "code",
   "execution_count": null,
   "id": "ff7f5a7e",
   "metadata": {},
   "outputs": [],
   "source": [
    "X_train, X_temp, y_train, y_temp = train_test_split(X, y, test_size=0.4, stratify=y, random_state=42)\n",
    "X_val, X_test, y_val, y_test = train_test_split(X_temp, y_temp, test_size=0.5, stratify=y_temp, random_state=42)\n",
    "\n",
    "X_train.shape, X_val.shape, X_test.shape"
   ]
  },
  {
   "cell_type": "markdown",
   "id": "292d287c",
   "metadata": {},
   "source": [
    "# Treinar o modelo"
   ]
  },
  {
   "cell_type": "code",
   "execution_count": null,
   "id": "b665b395",
   "metadata": {},
   "outputs": [],
   "source": [
    "model = RandomForestClassifier(random_state=42)\n",
    "model.fit(X_train, y_train)"
   ]
  },
  {
   "cell_type": "markdown",
   "id": "e97d96e1",
   "metadata": {},
   "source": [
    "# Avaliar o modelo"
   ]
  },
  {
   "cell_type": "code",
   "execution_count": null,
   "id": "93dbf03e",
   "metadata": {},
   "outputs": [],
   "source": [
    "y_val_pred = model.predict(X_val)\n",
    "acc = accuracy_score(y_val, y_val_pred)\n",
    "cm = confusion_matrix(y_val, y_val_pred)"
   ]
  },
  {
   "cell_type": "markdown",
   "id": "97584028",
   "metadata": {},
   "source": [
    "# Exibir a matriz de confusão"
   ]
  },
  {
   "cell_type": "code",
   "execution_count": null,
   "id": "c6325dff",
   "metadata": {},
   "outputs": [],
   "source": [
    "disp = ConfusionMatrixDisplay(confusion_matrix=cm)\n",
    "disp.plot()\n",
    "plt.title(f\"Acurácia: {acc:.2f}\")\n",
    "plt.show()"
   ]
  },
  {
   "cell_type": "markdown",
   "id": "118acfc3",
   "metadata": {},
   "source": [
    "# Predição de exemplo"
   ]
  },
  {
   "cell_type": "code",
   "execution_count": null,
   "id": "02afb684",
   "metadata": {},
   "outputs": [],
   "source": [
    "sample = X_test.iloc[0:1]\n",
    "sample_pred = model.predict(sample)\n",
    "print(\"Predição para o primeiro exemplo do teste:\", sample_pred[0])"
   ]
  }
 ],
 "metadata": {
  "kernelspec": {
   "display_name": "Python 3",
   "language": "python",
   "name": "python3"
  },
  "language_info": {
   "codemirror_mode": {
    "name": "ipython",
    "version": 3
   },
   "file_extension": ".py",
   "mimetype": "text/x-python",
   "name": "python",
   "nbconvert_exporter": "python",
   "pygments_lexer": "ipython3",
   "version": "3.9.2rc1"
  }
 },
 "nbformat": 4,
 "nbformat_minor": 5
}
